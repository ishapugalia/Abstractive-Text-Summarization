{
  "nbformat": 4,
  "nbformat_minor": 0,
  "metadata": {
    "colab": {
      "name": "model_2.ipynb",
      "provenance": [],
      "include_colab_link": true
    },
    "kernelspec": {
      "name": "python3",
      "display_name": "Python 3"
    },
    "language_info": {
      "name": "python"
    }
  },
  "cells": [
    {
      "cell_type": "markdown",
      "metadata": {
        "id": "view-in-github",
        "colab_type": "text"
      },
      "source": [
        "<a href=\"https://colab.research.google.com/github/ishapugalia/Abstractive-Text-Summarization/blob/main/model_2.ipynb\" target=\"_parent\"><img src=\"https://colab.research.google.com/assets/colab-badge.svg\" alt=\"Open In Colab\"/></a>"
      ]
    },
    {
      "cell_type": "code",
      "execution_count": 2,
      "metadata": {
        "id": "k9ApS_e3eTVd"
      },
      "outputs": [],
      "source": [
        "import numpy as np\n",
        "import os\n",
        "import pandas as pd\n",
        "import re"
      ]
    },
    {
      "cell_type": "code",
      "source": [
        "from keras.preprocessing.text import Tokenizer\n",
        "from keras.preprocessing.sequence import pad_sequences"
      ],
      "metadata": {
        "id": "4vvJgpgJhaaf"
      },
      "execution_count": 3,
      "outputs": []
    },
    {
      "cell_type": "code",
      "source": [
        "import tensorflow as tf"
      ],
      "metadata": {
        "id": "pxJ5mMANUjH0"
      },
      "execution_count": 4,
      "outputs": []
    },
    {
      "cell_type": "code",
      "source": [
        "data = pd.read_csv(\"/content/drive/MyDrive/Colab Notebooks/Dataset csv/train.csv\")\n"
      ],
      "metadata": {
        "id": "rzuyNj6xOFnY"
      },
      "execution_count": 9,
      "outputs": []
    },
    {
      "cell_type": "code",
      "source": [
        "from google.colab import drive\n",
        "drive.mount('/content/drive')"
      ],
      "metadata": {
        "colab": {
          "base_uri": "https://localhost:8080/"
        },
        "id": "6-l0vXqJegUG",
        "outputId": "fe3893a9-390e-4672-8de0-5f7a35a284df"
      },
      "execution_count": 8,
      "outputs": [
        {
          "output_type": "stream",
          "name": "stdout",
          "text": [
            "Mounted at /content/drive\n"
          ]
        }
      ]
    },
    {
      "cell_type": "code",
      "source": [
        "d_articles=pd.DataFrame(data.iloc[:10000,[0,1]])\n",
        "print(d_articles[:1])\n",
        "d_highlights=pd.DataFrame(data.iloc[:10000,[0,2]])\n",
        "print(d_highlights[:1])\n",
        "print(d_articles)"
      ],
      "metadata": {
        "colab": {
          "base_uri": "https://localhost:8080/"
        },
        "id": "5EzLTFx5OHvd",
        "outputId": "abdc956c-959e-4db7-b928-799097aeda00"
      },
      "execution_count": 10,
      "outputs": [
        {
          "output_type": "stream",
          "name": "stdout",
          "text": [
            "                                         id  \\\n",
            "0  0001d1afc246a7964130f43ae940af6bc6c57f01   \n",
            "\n",
            "                                             article  \n",
            "0  By . Associated Press . PUBLISHED: . 14:11 EST...  \n",
            "                                         id  \\\n",
            "0  0001d1afc246a7964130f43ae940af6bc6c57f01   \n",
            "\n",
            "                                          highlights  \n",
            "0  Bishop John Folda, of North Dakota, is taking ...  \n",
            "                                            id  \\\n",
            "0     0001d1afc246a7964130f43ae940af6bc6c57f01   \n",
            "1     0002095e55fcbd3a2f366d9bf92a95433dc305ef   \n",
            "2     00027e965c8264c35cc1bc55556db388da82b07f   \n",
            "3     0002c17436637c4fe1837c935c04de47adb18e9a   \n",
            "4     0003ad6ef0c37534f80b55b4235108024b407f0b   \n",
            "...                                        ...   \n",
            "9995  1c5f649f94e8f20b6fe624a842302208b781edbc   \n",
            "9996  1c5f8a16032bff0ac292e80d33d9c473323db7aa   \n",
            "9997  1c6060b597d97f86d96e7df9ecfc29517f7bbae4   \n",
            "9998  1c613f908ae6868f2d43cfe5ac75c5d35bfd734b   \n",
            "9999  1c61b5bd8b09b4f3a26aa740a7f7e11814fd2e61   \n",
            "\n",
            "                                                article  \n",
            "0     By . Associated Press . PUBLISHED: . 14:11 EST...  \n",
            "1     (CNN) -- Ralph Mata was an internal affairs li...  \n",
            "2     A drunk driver who killed a young woman in a h...  \n",
            "3     (CNN) -- With a breezy sweep of his pen Presid...  \n",
            "4     Fleetwood are the only team still to have a 10...  \n",
            "...                                                 ...  \n",
            "9995  A renowned poet was murdered by her stepson in...  \n",
            "9996  (Health.com) -- A class of injectable drugs us...  \n",
            "9997  By . Rob Cooper . A mother who accidentally lo...  \n",
            "9998  They are hated by many as an eyesore on the co...  \n",
            "9999  Airline Jetstar has come under fire for not pr...  \n",
            "\n",
            "[10000 rows x 2 columns]\n"
          ]
        }
      ]
    },
    {
      "cell_type": "code",
      "source": [
        "def cleantext(text):\n",
        "    text = str(text)\n",
        "    text=text.split()\n",
        "    words=[]\n",
        "    for t in text:\n",
        "        if t.isalpha():\n",
        "            words.append(t)\n",
        "    text=\" \".join(words)\n",
        "    text=text.lower()\n",
        "    text=re.sub(r\"what's\",\"what is \",text)\n",
        "    text=re.sub(r\"it's\",\"it is \",text)\n",
        "    text=re.sub(r\"\\'ve\",\" have \",text)\n",
        "    text=re.sub(r\"i'm\",\"i am \",text)\n",
        "    text=re.sub(r\"\\'re\",\" are \",text)\n",
        "    text=re.sub(r\"n't\",\" not \",text)\n",
        "    text=re.sub(r\"\\'d\",\" would \",text)\n",
        "    text=re.sub(r\"\\'s\",\"s\",text)\n",
        "    text=re.sub(r\"\\'ll\",\" will \",text)\n",
        "    text=re.sub(r\"can't\",\" cannot \",text)\n",
        "    text=re.sub(r\" e g \",\" eg \",text)\n",
        "    text=re.sub(r\"e-mail\",\"email\",text)\n",
        "    text=re.sub(r\"9\\\\/11\",\" 911 \",text)\n",
        "    text=re.sub(r\" u.s\",\" american \",text)\n",
        "    text=re.sub(r\" u.n\",\" united nations \",text)\n",
        "    text=re.sub(r\"\\n\",\" \",text)\n",
        "    text=re.sub(r\":\",\" \",text)\n",
        "    text=re.sub(r\"-\",\" \",text)\n",
        "    text=re.sub(r\"\\_\",\" \",text)\n",
        "    text=re.sub(r\"\\d+\",\" \",text)\n",
        "    text=re.sub(r\"[$#@%&*!~?%{}()]\",\" \",text)\n",
        "    \n",
        "    return text"
      ],
      "metadata": {
        "id": "dUQGQQYYOIkN"
      },
      "execution_count": 11,
      "outputs": []
    },
    {
      "cell_type": "code",
      "source": [
        "d_articles[\"article\"]= d_articles[\"article\"].apply(lambda x: cleantext(x))"
      ],
      "metadata": {
        "id": "T4KaDCukPN0m"
      },
      "execution_count": 12,
      "outputs": []
    },
    {
      "cell_type": "code",
      "source": [
        "d_highlights[\"highlights\"]= d_highlights[\"highlights\"].apply(lambda x: cleantext(x))"
      ],
      "metadata": {
        "id": "Jwqe-7VMP-l6"
      },
      "execution_count": 13,
      "outputs": []
    },
    {
      "cell_type": "code",
      "source": [
        "VOCAB_SIZE = 29999\n",
        "tokenizer = Tokenizer(num_words=VOCAB_SIZE)\n",
        "tokenizer.fit_on_texts(list(d_articles.article))\n",
        "article_sequences = tokenizer.texts_to_sequences(list(d_articles.article))\n",
        "art_word_index = tokenizer.word_index\n",
        "len(art_word_index)"
      ],
      "metadata": {
        "colab": {
          "base_uri": "https://localhost:8080/"
        },
        "id": "YowFQbElOaDI",
        "outputId": "97ca73a2-0bad-4e25-f09f-491ac7d8e65e"
      },
      "execution_count": 14,
      "outputs": [
        {
          "output_type": "execute_result",
          "data": {
            "text/plain": [
              "75952"
            ]
          },
          "metadata": {},
          "execution_count": 14
        }
      ]
    },
    {
      "cell_type": "code",
      "source": [
        "art_vocab = {}\n",
        "counter = 0\n",
        "for word in art_word_index.keys():\n",
        "    if art_word_index[word] == 0:\n",
        "        print(\"found 0!\")\n",
        "        break\n",
        "    if art_word_index[word] > VOCAB_SIZE:\n",
        "        continue\n",
        "    else:\n",
        "        art_vocab[word] = art_word_index[word]\n",
        "        counter += 1"
      ],
      "metadata": {
        "id": "MWMSlJaLPFxC"
      },
      "execution_count": 15,
      "outputs": []
    },
    {
      "cell_type": "code",
      "source": [
        "tokenizer.fit_on_texts(d_highlights)\n",
        "summary_sequences = tokenizer.texts_to_sequences(d_highlights)\n",
        "sum_word_index = tokenizer.word_index\n",
        "len(sum_word_index)"
      ],
      "metadata": {
        "colab": {
          "base_uri": "https://localhost:8080/"
        },
        "id": "WvBKxlVDQlsN",
        "outputId": "dc2f36da-a6aa-4dbb-a3b0-f7a79d079f78"
      },
      "execution_count": 16,
      "outputs": [
        {
          "output_type": "execute_result",
          "data": {
            "text/plain": [
              "75952"
            ]
          },
          "metadata": {},
          "execution_count": 16
        }
      ]
    },
    {
      "cell_type": "code",
      "source": [
        "sum_vocab = {}\n",
        "counter = 0\n",
        "for word in sum_word_index.keys():\n",
        "    if sum_word_index[word] == 0:\n",
        "        print(\"found 0!\")\n",
        "        break\n",
        "    if sum_word_index[word] > VOCAB_SIZE:\n",
        "        continue\n",
        "    else:\n",
        "        sum_vocab[word] = sum_word_index[word]\n",
        "        counter += 1"
      ],
      "metadata": {
        "id": "JQAldpNHQ0Im"
      },
      "execution_count": 17,
      "outputs": []
    },
    {
      "cell_type": "code",
      "source": [
        "MAX_LEN = 400\n",
        "pad_article = pad_sequences(article_sequences, maxlen=MAX_LEN, padding='post', truncating='post')"
      ],
      "metadata": {
        "id": "skDfVP6HQ8RX"
      },
      "execution_count": 18,
      "outputs": []
    },
    {
      "cell_type": "code",
      "source": [
        "MAX_LEN_S= 100\n",
        "pad_highlight = pad_sequences(summary_sequences, maxlen=MAX_LEN_S, padding='post', truncating='post')"
      ],
      "metadata": {
        "id": "pIVYyRodR30W"
      },
      "execution_count": 19,
      "outputs": []
    },
    {
      "cell_type": "code",
      "source": [
        "pad_article.shape"
      ],
      "metadata": {
        "colab": {
          "base_uri": "https://localhost:8080/"
        },
        "id": "KcUKdTJzSOhg",
        "outputId": "32d4c91a-6c96-4a87-e7e4-fe420434055a"
      },
      "execution_count": 20,
      "outputs": [
        {
          "output_type": "execute_result",
          "data": {
            "text/plain": [
              "(10000, 400)"
            ]
          },
          "metadata": {},
          "execution_count": 20
        }
      ]
    },
    {
      "cell_type": "code",
      "source": [
        "embeddings_index = {}\n",
        "with open('/content/drive/MyDrive/Colab Notebooks/glove.6B.200d.txt', encoding='utf-8') as f:\n",
        "    for line in f:\n",
        "        values = line.split()\n",
        "        word = values[0]\n",
        "        coefs = np.asarray(values[1:], dtype='float32')\n",
        "        embeddings_index[word] = coefs\n",
        "    f.close()"
      ],
      "metadata": {
        "id": "KDWMgqv1SUb2"
      },
      "execution_count": 21,
      "outputs": []
    },
    {
      "cell_type": "code",
      "source": [
        "def embedding_matrix_creater(embedding_dimention, word_index):\n",
        "    embedding_matrix = np.zeros((len(word_index) + 1, embedding_dimention))\n",
        "    for word, i in word_index.items():\n",
        "        embedding_vector = embeddings_index.get(word)\n",
        "        if embedding_vector is not None:\n",
        "          # words not found in embedding index will be all-zeros.\n",
        "            embedding_matrix[i] = embedding_vector\n",
        "    return embedding_matrix"
      ],
      "metadata": {
        "id": "42pWkNsHSu6f"
      },
      "execution_count": 24,
      "outputs": []
    },
    {
      "cell_type": "code",
      "source": [
        "art_embedding_matrix = embedding_matrix_creater(200, word_index=art_vocab)\n",
        "art_embedding_matrix.shape"
      ],
      "metadata": {
        "colab": {
          "base_uri": "https://localhost:8080/"
        },
        "id": "J3OA54__S2sY",
        "outputId": "d9b61213-71ce-451a-f525-8fa4c21dfff6"
      },
      "execution_count": 25,
      "outputs": [
        {
          "output_type": "execute_result",
          "data": {
            "text/plain": [
              "(30000, 200)"
            ]
          },
          "metadata": {},
          "execution_count": 25
        }
      ]
    },
    {
      "cell_type": "code",
      "source": [
        "df=pd.DataFrame(art_embedding_matrix)\n",
        "df.to_excel(\"/content/drive/MyDrive/Colab Notebooks/trained/art_embedding_matrix.xlsx\")\n"
      ],
      "metadata": {
        "id": "N3Xg61KKfqKB"
      },
      "execution_count": 35,
      "outputs": []
    },
    {
      "cell_type": "code",
      "source": [
        "sum_embedding_matrix = embedding_matrix_creater(200, word_index=sum_vocab)\n",
        "sum_embedding_matrix.shape"
      ],
      "metadata": {
        "colab": {
          "base_uri": "https://localhost:8080/"
        },
        "id": "__V4JUbRTC5S",
        "outputId": "f11d6f5b-71a8-4b3d-e2b8-718f42bd7e98"
      },
      "execution_count": 26,
      "outputs": [
        {
          "output_type": "execute_result",
          "data": {
            "text/plain": [
              "(30000, 200)"
            ]
          },
          "metadata": {},
          "execution_count": 26
        }
      ]
    },
    {
      "cell_type": "code",
      "source": [
        "art_embedding_matrix[10]"
      ],
      "metadata": {
        "colab": {
          "base_uri": "https://localhost:8080/"
        },
        "id": "XvInIZQPT8uU",
        "outputId": "35adfb2a-9e8a-4ae2-eb92-8ddab99af568"
      },
      "execution_count": 27,
      "outputs": [
        {
          "output_type": "execute_result",
          "data": {
            "text/plain": [
              "array([-0.39374   ,  0.55684   , -0.35848001, -0.67074001,  0.073665  ,\n",
              "        0.12643   , -0.013077  , -0.25279999, -0.04863   ,  0.087937  ,\n",
              "       -0.20308   ,  0.43673   ,  0.18453   , -0.027372  ,  0.18987   ,\n",
              "        0.23822001, -0.092781  ,  0.31736001,  0.15368   ,  0.14471   ,\n",
              "        0.37138   ,  3.15409994,  0.13773   ,  0.0037497 ,  0.14195   ,\n",
              "        0.40222001, -0.56691003,  0.17663001, -0.37059999,  0.19401   ,\n",
              "        0.074044  , -0.19639   ,  0.093499  ,  0.78948998,  0.10651   ,\n",
              "       -0.54262   , -0.82392001, -0.59018999, -0.0074686 ,  0.048896  ,\n",
              "        0.26594999, -0.071857  ,  0.28968   ,  0.46733001,  0.17434999,\n",
              "        0.65547001,  0.069246  , -0.78889   ,  0.20286   ,  0.44911   ,\n",
              "       -0.54470998,  0.10789   ,  0.040975  ,  0.60115999, -0.14781   ,\n",
              "       -0.21917   ,  0.16495   ,  0.40391001,  0.33915001,  0.36809999,\n",
              "        0.034313  , -0.19927999, -0.40278   , -0.15649   ,  0.010548  ,\n",
              "       -0.27677   ,  0.066898  , -0.16745999,  0.1288    , -0.11875   ,\n",
              "        0.13574   , -0.13967   , -0.1601    ,  0.20059   ,  0.042929  ,\n",
              "        0.34299999,  0.027023  , -0.26837999,  0.096476  ,  0.05495   ,\n",
              "       -0.20767   , -0.52867001, -0.32010999, -0.089352  ,  0.21718   ,\n",
              "        0.44339001, -0.27825001, -0.51583999,  0.37681001, -0.64232999,\n",
              "        0.12781   ,  0.10471   ,  0.41378   , -0.01029   , -0.1176    ,\n",
              "       -0.20697001,  0.26688999, -0.72601002,  0.19995999, -0.81836998,\n",
              "       -0.10311   , -0.23001   ,  0.10628   ,  0.096303  , -0.16858   ,\n",
              "        0.055709  ,  0.068835  ,  1.07799995,  0.064561  , -0.1824    ,\n",
              "       -0.32464999, -0.55668002, -0.073582  ,  0.071703  ,  0.10335   ,\n",
              "       -0.19904999, -0.070396  , -0.19203   , -0.08814   , -0.50102001,\n",
              "       -0.033088  , -0.26299   ,  0.0314    , -0.11619   ,  0.34836999,\n",
              "       -0.54018003,  0.093709  ,  0.13945   ,  0.11599   , -0.28646001,\n",
              "       -0.33548   , -0.033986  ,  0.55027997, -0.53671998, -0.074195  ,\n",
              "        0.36023   ,  0.18919   , -0.53179997, -0.030495  ,  0.51906002,\n",
              "        0.15200999, -0.10314   , -0.14523   , -0.018952  ,  1.47119999,\n",
              "        0.35201001, -0.022265  , -0.38350999, -0.23718999,  0.10311   ,\n",
              "        0.39340001,  0.65688002, -0.052513  ,  0.26787001,  0.21899   ,\n",
              "       -0.17744   ,  0.16229001,  0.27533999, -0.15967   , -1.00209999,\n",
              "        0.36849001,  0.23650999, -0.59118003, -0.21634001,  0.43708   ,\n",
              "       -0.29897001, -0.051803  ,  0.20616999, -0.23085   ,  0.92027998,\n",
              "        0.083998  ,  0.0087679 ,  0.60472   , -0.49388   , -0.22373   ,\n",
              "        0.30978   , -0.76332998, -0.31799999,  0.27994999, -0.24469   ,\n",
              "        0.94786   , -0.19595   , -0.054997  , -0.13710999, -0.17249   ,\n",
              "        0.22193   ,  0.068174  , -0.46008   ,  0.25301999,  0.31222001,\n",
              "        0.45567   ,  0.26039001, -0.63929999,  0.55483001,  0.17156   ,\n",
              "        0.0092464 , -0.24973001, -0.33932   ,  0.032222  ,  0.32589999])"
            ]
          },
          "metadata": {},
          "execution_count": 27
        }
      ]
    },
    {
      "cell_type": "code",
      "source": [
        "def embedding_layer_creater(VOCAB_SIZE, EMBEDDING_DIM, MAX_LEN, embedding_matrix):\n",
        "  embedding_layer = tf.keras.layers.Embedding(input_dim = VOCAB_SIZE, \n",
        "                                    output_dim = EMBEDDING_DIM,\n",
        "                                    input_length = MAX_LEN,\n",
        "                                    weights = [embedding_matrix],\n",
        "                                    trainable = False)\n",
        "  \n",
        "  return embedding_layer\n",
        "\n"
      ],
      "metadata": {
        "id": "EDXmOp4GVN3w"
      },
      "execution_count": 28,
      "outputs": []
    },
    {
      "cell_type": "code",
      "source": [
        "encoder_embedding_layer = embedding_layer_creater(VOCAB_SIZE,200, MAX_LEN, art_embedding_matrix)"
      ],
      "metadata": {
        "id": "41Lr69_IW4CP"
      },
      "execution_count": 29,
      "outputs": []
    },
    {
      "cell_type": "code",
      "source": [
        "decoder_embedding_layer = embedding_layer_creater(VOCAB_SIZE,200, MAX_LEN_S, sum_embedding_matrix)"
      ],
      "metadata": {
        "id": "0a7CneHgaYDD"
      },
      "execution_count": 30,
      "outputs": []
    },
    {
      "cell_type": "code",
      "source": [
        "if not os.path.exists(\"/content/drive/MyDrive/Colab Notebooks/trained\"):\n",
        "    os.makedirs(\"/content/drive/MyDrive/Colab Notebooks/trained\")"
      ],
      "metadata": {
        "id": "PaDEPbP0fXyW"
      },
      "execution_count": null,
      "outputs": []
    },
    {
      "cell_type": "code",
      "source": [
        ""
      ],
      "metadata": {
        "id": "mQeV01xxfZbQ"
      },
      "execution_count": null,
      "outputs": []
    },
    {
      "cell_type": "code",
      "source": [
        "!pip install chart-studio"
      ],
      "metadata": {
        "colab": {
          "base_uri": "https://localhost:8080/"
        },
        "id": "Y6AsQKwVbaPo",
        "outputId": "0b0be674-45e0-49b8-e808-f4054ee767f9"
      },
      "execution_count": null,
      "outputs": [
        {
          "output_type": "stream",
          "name": "stdout",
          "text": [
            "Collecting chart-studio\n",
            "  Downloading chart_studio-1.1.0-py3-none-any.whl (64 kB)\n",
            "\u001b[K     |████████████████████████████████| 64 kB 1.4 MB/s \n",
            "\u001b[?25hCollecting retrying>=1.3.3\n",
            "  Downloading retrying-1.3.3.tar.gz (10 kB)\n",
            "Requirement already satisfied: six in /usr/local/lib/python3.7/dist-packages (from chart-studio) (1.15.0)\n",
            "Requirement already satisfied: requests in /usr/local/lib/python3.7/dist-packages (from chart-studio) (2.23.0)\n",
            "Requirement already satisfied: plotly in /usr/local/lib/python3.7/dist-packages (from chart-studio) (5.5.0)\n",
            "Requirement already satisfied: tenacity>=6.2.0 in /usr/local/lib/python3.7/dist-packages (from plotly->chart-studio) (8.0.1)\n",
            "Requirement already satisfied: idna<3,>=2.5 in /usr/local/lib/python3.7/dist-packages (from requests->chart-studio) (2.10)\n",
            "Requirement already satisfied: urllib3!=1.25.0,!=1.25.1,<1.26,>=1.21.1 in /usr/local/lib/python3.7/dist-packages (from requests->chart-studio) (1.24.3)\n",
            "Requirement already satisfied: chardet<4,>=3.0.2 in /usr/local/lib/python3.7/dist-packages (from requests->chart-studio) (3.0.4)\n",
            "Requirement already satisfied: certifi>=2017.4.17 in /usr/local/lib/python3.7/dist-packages (from requests->chart-studio) (2021.10.8)\n",
            "Building wheels for collected packages: retrying\n",
            "  Building wheel for retrying (setup.py) ... \u001b[?25l\u001b[?25hdone\n",
            "  Created wheel for retrying: filename=retrying-1.3.3-py3-none-any.whl size=11447 sha256=6a53816442625a97c2047a469848b10c568d44a4bce07e5e1a653a2dd8a7071c\n",
            "  Stored in directory: /root/.cache/pip/wheels/f9/8d/8d/f6af3f7f9eea3553bc2fe6d53e4b287dad18b06a861ac56ddf\n",
            "Successfully built retrying\n",
            "Installing collected packages: retrying, chart-studio\n",
            "Successfully installed chart-studio-1.1.0 retrying-1.3.3\n"
          ]
        }
      ]
    },
    {
      "cell_type": "code",
      "source": [
        "from numpy.random import seed\n",
        "seed(1)\n",
        "\n",
        "from sklearn.model_selection import train_test_split\n",
        "import logging\n",
        "\n",
        "import chart_studio.plotly as py\n",
        "import plotly.graph_objs as go\n",
        "import matplotlib.pyplot as plt\n",
        "import pandas as pd\n",
        "import pydot\n",
        "\n",
        "\n",
        "import keras\n",
        "from keras import backend as k\n",
        "k.set_learning_phase(1)\n",
        "from keras.preprocessing.text import Tokenizer\n",
        "from keras import initializers\n",
        "from tensorflow.keras.optimizers import RMSprop\n",
        "from keras.models import Sequential,Model\n",
        "from keras.layers import Dense,LSTM,Dropout,Input,Activation,Add,concatenate, Embedding, RepeatVector\n",
        "from keras.layers.advanced_activations import LeakyReLU,PReLU\n",
        "from keras.callbacks import ModelCheckpoint\n",
        "from keras.models import load_model\n",
        "from tensorflow.keras.optimizers import Adam"
      ],
      "metadata": {
        "colab": {
          "base_uri": "https://localhost:8080/"
        },
        "id": "QUmIPtAUaf_G",
        "outputId": "f75b4775-02f8-41e9-8799-116cd6fcd984"
      },
      "execution_count": null,
      "outputs": [
        {
          "output_type": "stream",
          "name": "stderr",
          "text": [
            "/usr/local/lib/python3.7/dist-packages/keras/backend.py:450: UserWarning: `tf.keras.backend.set_learning_phase` is deprecated and will be removed after 2020-10-11. To update it, simply pass a True/False value to the `training` argument of the `__call__` method of your layer or model.\n",
            "  warnings.warn('`tf.keras.backend.set_learning_phase` is deprecated and '\n"
          ]
        }
      ]
    },
    {
      "cell_type": "code",
      "source": [
        "from keras.layers import TimeDistributed\n"
      ],
      "metadata": {
        "id": "lGRLaxq5b6wW"
      },
      "execution_count": null,
      "outputs": []
    },
    {
      "cell_type": "code",
      "source": [
        "# Hyperparams\n",
        "\n",
        "MAX_LEN = 400\n",
        "VOCAB_SIZE=30000\n",
        "EMBEDDING_DIM = 200\n",
        "HIDDEN_UNITS = 256\n",
        "VOCAB_SIZE = VOCAB_SIZE + 1\n",
        "\n",
        "LEARNING_RATE = 0.002\n",
        "BATCH_SIZE = 32\n",
        "EPOCHS = 10"
      ],
      "metadata": {
        "id": "vjbE5qFhcAKR"
      },
      "execution_count": 1,
      "outputs": []
    }
  ]
}