{
  "nbformat": 4,
  "nbformat_minor": 0,
  "metadata": {
    "colab": {
      "name": "model_2.ipynb",
      "provenance": [],
      "include_colab_link": true
    },
    "kernelspec": {
      "name": "python3",
      "display_name": "Python 3"
    },
    "language_info": {
      "name": "python"
    }
  },
  "cells": [
    {
      "cell_type": "markdown",
      "metadata": {
        "id": "view-in-github",
        "colab_type": "text"
      },
      "source": [
        "<a href=\"https://colab.research.google.com/github/ishapugalia/Abstractive-Text-Summarization/blob/main/model_2.ipynb\" target=\"_parent\"><img src=\"https://colab.research.google.com/assets/colab-badge.svg\" alt=\"Open In Colab\"/></a>"
      ]
    },
    {
      "cell_type": "code",
      "execution_count": 2,
      "metadata": {
        "id": "k9ApS_e3eTVd"
      },
      "outputs": [],
      "source": [
        "import numpy as np\n",
        "import os\n",
        "import pandas as pd\n",
        "import re"
      ]
    },
    {
      "cell_type": "code",
      "source": [
        "from keras.preprocessing.text import Tokenizer\n",
        "from keras.preprocessing.sequence import pad_sequences"
      ],
      "metadata": {
        "id": "4vvJgpgJhaaf"
      },
      "execution_count": 3,
      "outputs": []
    },
    {
      "cell_type": "code",
      "source": [
        "import tensorflow as tf"
      ],
      "metadata": {
        "id": "pxJ5mMANUjH0"
      },
      "execution_count": 4,
      "outputs": []
    },
    {
      "cell_type": "code",
      "source": [
        "data = pd.read_csv(\"/content/drive/MyDrive/Colab Notebooks/Dataset csv/train.csv\")\n"
      ],
      "metadata": {
        "id": "rzuyNj6xOFnY"
      },
      "execution_count": 5,
      "outputs": []
    },
    {
      "cell_type": "code",
      "source": [
        "from google.colab import drive\n",
        "drive.mount('/content/drive')"
      ],
      "metadata": {
        "colab": {
          "base_uri": "https://localhost:8080/"
        },
        "id": "6-l0vXqJegUG",
        "outputId": "89cb1bda-448e-4998-ca93-c46f0182c701"
      },
      "execution_count": 6,
      "outputs": [
        {
          "output_type": "stream",
          "name": "stdout",
          "text": [
            "Drive already mounted at /content/drive; to attempt to forcibly remount, call drive.mount(\"/content/drive\", force_remount=True).\n"
          ]
        }
      ]
    },
    {
      "cell_type": "code",
      "source": [
        "d_articles=pd.DataFrame(data.iloc[:10000,[0,1]])\n",
        "print(d_articles[:1])\n",
        "d_highlights=pd.DataFrame(data.iloc[:10000,[0,2]])\n",
        "print(d_highlights.columns)\n",
        "#print(d_articles)"
      ],
      "metadata": {
        "colab": {
          "base_uri": "https://localhost:8080/"
        },
        "id": "5EzLTFx5OHvd",
        "outputId": "b70eb1aa-13b1-4cc4-8700-bd3fbe314c3b"
      },
      "execution_count": 7,
      "outputs": [
        {
          "output_type": "stream",
          "name": "stdout",
          "text": [
            "                                         id  \\\n",
            "0  0001d1afc246a7964130f43ae940af6bc6c57f01   \n",
            "\n",
            "                                             article  \n",
            "0  By . Associated Press . PUBLISHED: . 14:11 EST...  \n",
            "Index(['id', 'highlights'], dtype='object')\n"
          ]
        }
      ]
    },
    {
      "cell_type": "code",
      "source": [
        "def cleantext(text):\n",
        "    text = str(text)\n",
        "    text=text.split()\n",
        "    words=[]\n",
        "    for t in text:\n",
        "        if t.isalpha():\n",
        "            words.append(t)\n",
        "    text=\" \".join(words)\n",
        "    text=text.lower()\n",
        "    text=re.sub(r\"what's\",\"what is \",text)\n",
        "    text=re.sub(r\"it's\",\"it is \",text)\n",
        "    text=re.sub(r\"\\'ve\",\" have \",text)\n",
        "    text=re.sub(r\"i'm\",\"i am \",text)\n",
        "    text=re.sub(r\"\\'re\",\" are \",text)\n",
        "    text=re.sub(r\"n't\",\" not \",text)\n",
        "    text=re.sub(r\"\\'d\",\" would \",text)\n",
        "    text=re.sub(r\"\\'s\",\"s\",text)\n",
        "    text=re.sub(r\"\\'ll\",\" will \",text)\n",
        "    text=re.sub(r\"can't\",\" cannot \",text)\n",
        "    text=re.sub(r\" e g \",\" eg \",text)\n",
        "    text=re.sub(r\"e-mail\",\"email\",text)\n",
        "    text=re.sub(r\"9\\\\/11\",\" 911 \",text)\n",
        "    text=re.sub(r\" u.s\",\" american \",text)\n",
        "    text=re.sub(r\" u.n\",\" united nations \",text)\n",
        "    text=re.sub(r\"\\n\",\" \",text)\n",
        "    text=re.sub(r\":\",\" \",text)\n",
        "    text=re.sub(r\"-\",\" \",text)\n",
        "    text=re.sub(r\"\\_\",\" \",text)\n",
        "    text=re.sub(r\"\\d+\",\" \",text)\n",
        "    text=re.sub(r\"[$#@%&*!~?%{}()]\",\" \",text)\n",
        "    \n",
        "    return text"
      ],
      "metadata": {
        "id": "dUQGQQYYOIkN"
      },
      "execution_count": 8,
      "outputs": []
    },
    {
      "cell_type": "code",
      "source": [
        "d_articles[\"article\"]= d_articles[\"article\"].apply(lambda x: cleantext(x))"
      ],
      "metadata": {
        "id": "T4KaDCukPN0m"
      },
      "execution_count": 9,
      "outputs": []
    },
    {
      "cell_type": "code",
      "source": [
        "d_highlights[\"highlights\"]= d_highlights[\"highlights\"].apply(lambda x: cleantext(x))"
      ],
      "metadata": {
        "id": "Jwqe-7VMP-l6"
      },
      "execution_count": 10,
      "outputs": []
    },
    {
      "cell_type": "code",
      "source": [
        "VOCAB_SIZE = 29999\n",
        "tokenizer = Tokenizer(num_words=VOCAB_SIZE)\n",
        "tokenizer.fit_on_texts(list(d_articles.article))\n",
        "article_sequences = tokenizer.texts_to_sequences(list(d_articles.article))\n",
        "art_word_index = tokenizer.word_index\n",
        "len(art_word_index)"
      ],
      "metadata": {
        "colab": {
          "base_uri": "https://localhost:8080/"
        },
        "id": "YowFQbElOaDI",
        "outputId": "28a55ca5-fd72-4b13-dc4f-d2ac7f2138b6"
      },
      "execution_count": 11,
      "outputs": [
        {
          "output_type": "execute_result",
          "data": {
            "text/plain": [
              "75952"
            ]
          },
          "metadata": {},
          "execution_count": 11
        }
      ]
    },
    {
      "cell_type": "code",
      "source": [
        "art_vocab = {}\n",
        "counter = 0\n",
        "for word in art_word_index.keys():\n",
        "    if art_word_index[word] == 0:\n",
        "        print(\"found 0!\")\n",
        "        break\n",
        "    if art_word_index[word] > VOCAB_SIZE:\n",
        "        continue\n",
        "    else:\n",
        "        art_vocab[word] = art_word_index[word]\n",
        "        counter += 1"
      ],
      "metadata": {
        "id": "MWMSlJaLPFxC"
      },
      "execution_count": 12,
      "outputs": []
    },
    {
      "cell_type": "code",
      "source": [
        "tokenizer.fit_on_texts(d_highlights)\n",
        "summary_sequences = tokenizer.texts_to_sequences(d_highlights.highlights)\n",
        "sum_word_index = tokenizer.word_index\n",
        "len(sum_word_index)"
      ],
      "metadata": {
        "colab": {
          "base_uri": "https://localhost:8080/"
        },
        "id": "WvBKxlVDQlsN",
        "outputId": "70d6a25d-0e3c-4d24-fae7-d911bd806d25"
      },
      "execution_count": 13,
      "outputs": [
        {
          "output_type": "execute_result",
          "data": {
            "text/plain": [
              "75952"
            ]
          },
          "metadata": {},
          "execution_count": 13
        }
      ]
    },
    {
      "cell_type": "code",
      "source": [
        "sum_vocab = {}\n",
        "counter = 0\n",
        "for word in sum_word_index.keys():\n",
        "    if sum_word_index[word] == 0:\n",
        "        print(\"found 0!\")\n",
        "        break\n",
        "    if sum_word_index[word] > VOCAB_SIZE:\n",
        "        continue\n",
        "    else:\n",
        "        sum_vocab[word] = sum_word_index[word]\n",
        "        counter += 1"
      ],
      "metadata": {
        "id": "JQAldpNHQ0Im"
      },
      "execution_count": 14,
      "outputs": []
    },
    {
      "cell_type": "code",
      "source": [
        "MAX_LEN = 400\n",
        "pad_article = pad_sequences(article_sequences, maxlen=MAX_LEN, padding='post', truncating='post')"
      ],
      "metadata": {
        "id": "skDfVP6HQ8RX"
      },
      "execution_count": 15,
      "outputs": []
    },
    {
      "cell_type": "code",
      "source": [
        "MAX_LEN_S= 100\n",
        "pad_highlight = pad_sequences(summary_sequences, maxlen=MAX_LEN_S, padding='post', truncating='post')"
      ],
      "metadata": {
        "id": "pIVYyRodR30W"
      },
      "execution_count": 16,
      "outputs": []
    },
    {
      "cell_type": "code",
      "source": [
        "pad_article.shape\n",
        "pad_highlight"
      ],
      "metadata": {
        "colab": {
          "base_uri": "https://localhost:8080/"
        },
        "id": "KcUKdTJzSOhg",
        "outputId": "6ea3122f-ccf6-4f13-8a8a-258ca5fe4dbd"
      },
      "execution_count": 17,
      "outputs": [
        {
          "output_type": "execute_result",
          "data": {
            "text/plain": [
              "array([[ 4164,   286,     5, ...,     0,     0,     0],\n",
              "       [  772,  6955,   152, ...,     0,     0,     0],\n",
              "       [ 2725,    31,  3608, ...,     0,     0,     0],\n",
              "       ...,\n",
              "       [ 7177,     7,   961, ...,     0,     0,     0],\n",
              "       [ 1370,    11,  2122, ...,     0,     0,     0],\n",
              "       [23613, 21278,     7, ...,     0,     0,     0]], dtype=int32)"
            ]
          },
          "metadata": {},
          "execution_count": 17
        }
      ]
    },
    {
      "cell_type": "code",
      "source": [
        "embeddings_index = {}\n",
        "with open('/content/drive/MyDrive/Colab Notebooks/glove.6B.200d.txt', encoding='utf-8') as f:\n",
        "    for line in f:\n",
        "        values = line.split()\n",
        "        word = values[0]\n",
        "        coefs = np.asarray(values[1:], dtype='float32')\n",
        "        embeddings_index[word] = coefs\n",
        "    f.close()"
      ],
      "metadata": {
        "id": "KDWMgqv1SUb2"
      },
      "execution_count": 18,
      "outputs": []
    },
    {
      "cell_type": "code",
      "source": [
        "def embedding_matrix_creater(embedding_dimention, word_index):\n",
        "    embedding_matrix = np.zeros((len(word_index) + 1, embedding_dimention))\n",
        "    for word, i in word_index.items():\n",
        "        embedding_vector = embeddings_index.get(word)\n",
        "        if embedding_vector is not None:\n",
        "          # words not found in embedding index will be all-zeros.\n",
        "            embedding_matrix[i] = embedding_vector\n",
        "    return embedding_matrix"
      ],
      "metadata": {
        "id": "42pWkNsHSu6f"
      },
      "execution_count": 18,
      "outputs": []
    },
    {
      "cell_type": "code",
      "source": [
        "art_embedding_matrix = embedding_matrix_creater(200, word_index=art_vocab)\n",
        "art_embedding_matrix.shape"
      ],
      "metadata": {
        "colab": {
          "base_uri": "https://localhost:8080/"
        },
        "id": "J3OA54__S2sY",
        "outputId": "03f2af3b-ca2e-49b5-f296-d6d495f341dd"
      },
      "execution_count": 19,
      "outputs": [
        {
          "output_type": "execute_result",
          "data": {
            "text/plain": [
              "(30000, 200)"
            ]
          },
          "metadata": {},
          "execution_count": 19
        }
      ]
    },
    {
      "cell_type": "code",
      "source": [
        "df=pd.DataFrame(art_embedding_matrix)\n",
        "df.to_excel(\"/content/drive/MyDrive/Colab Notebooks/trained/art_embedding_matrix.xlsx\")\n"
      ],
      "metadata": {
        "id": "N3Xg61KKfqKB"
      },
      "execution_count": null,
      "outputs": []
    },
    {
      "cell_type": "code",
      "source": [
        "import pickle"
      ],
      "metadata": {
        "id": "mKvWN3qUFaQv"
      },
      "execution_count": null,
      "outputs": []
    },
    {
      "cell_type": "code",
      "source": [
        "filehandler = open(\"/content/drive/MyDrive/Colab Notebooks/trained/art_vocab\", 'wb')\n",
        "pickle.dump(art_vocab, filehandler)"
      ],
      "metadata": {
        "id": "WGsNept7FbVI"
      },
      "execution_count": null,
      "outputs": []
    },
    {
      "cell_type": "code",
      "source": [
        "filehandler = open(\"/content/drive/MyDrive/Colab Notebooks/trained/sum_vocab\", 'wb')\n",
        "pickle.dump(sum_vocab, filehandler)"
      ],
      "metadata": {
        "id": "KGpKmJvTGhYF"
      },
      "execution_count": null,
      "outputs": []
    },
    {
      "cell_type": "code",
      "source": [
        "#file = open('/content/drive/MyDrive/Colab Notebooks/trained/art_vocab.txt', 'rb')\n",
        "\n",
        "# dump information to that file\n",
        "#data1 = pickle.load(file)\n",
        "#print(data1)"
      ],
      "metadata": {
        "id": "b7gLv-O0Ghaw"
      },
      "execution_count": null,
      "outputs": []
    },
    {
      "cell_type": "code",
      "source": [
        "sum_embedding_matrix = embedding_matrix_creater(200, word_index=sum_vocab)\n",
        "sum_embedding_matrix.shape"
      ],
      "metadata": {
        "colab": {
          "base_uri": "https://localhost:8080/"
        },
        "id": "__V4JUbRTC5S",
        "outputId": "9031631e-21d3-474e-a49e-b3365e01755a"
      },
      "execution_count": 20,
      "outputs": [
        {
          "output_type": "execute_result",
          "data": {
            "text/plain": [
              "(30000, 200)"
            ]
          },
          "metadata": {},
          "execution_count": 20
        }
      ]
    },
    {
      "cell_type": "code",
      "source": [
        "art_embedding_matrix[10]"
      ],
      "metadata": {
        "id": "XvInIZQPT8uU"
      },
      "execution_count": null,
      "outputs": []
    },
    {
      "cell_type": "code",
      "source": [
        "def embedding_layer_creater(VOCAB_SIZE, EMBEDDING_DIM, MAX_LEN, embedding_matrix):\n",
        "  embedding_layer = tf.keras.layers.Embedding(input_dim = VOCAB_SIZE, \n",
        "                                    output_dim = EMBEDDING_DIM,\n",
        "                                    input_length = MAX_LEN,\n",
        "                                    weights = [embedding_matrix],\n",
        "                                    trainable = False)\n",
        "  \n",
        "  return embedding_layer\n",
        "\n"
      ],
      "metadata": {
        "id": "EDXmOp4GVN3w"
      },
      "execution_count": 21,
      "outputs": []
    },
    {
      "cell_type": "code",
      "source": [
        "encoder_embedding_layer = embedding_layer_creater(30000,200, MAX_LEN, art_embedding_matrix)"
      ],
      "metadata": {
        "id": "41Lr69_IW4CP"
      },
      "execution_count": 22,
      "outputs": []
    },
    {
      "cell_type": "code",
      "source": [
        "decoder_embedding_layer = embedding_layer_creater(30000,200, MAX_LEN_S, sum_embedding_matrix)"
      ],
      "metadata": {
        "id": "0a7CneHgaYDD"
      },
      "execution_count": 23,
      "outputs": []
    },
    {
      "cell_type": "code",
      "source": [
        "if not os.path.exists(\"/content/drive/MyDrive/Colab Notebooks/trained\"):\n",
        "    os.makedirs(\"/content/drive/MyDrive/Colab Notebooks/trained\")"
      ],
      "metadata": {
        "id": "PaDEPbP0fXyW"
      },
      "execution_count": null,
      "outputs": []
    },
    {
      "cell_type": "code",
      "source": [
        ""
      ],
      "metadata": {
        "id": "mQeV01xxfZbQ"
      },
      "execution_count": null,
      "outputs": []
    },
    {
      "cell_type": "code",
      "source": [
        "!pip install chart-studio"
      ],
      "metadata": {
        "id": "Y6AsQKwVbaPo"
      },
      "execution_count": null,
      "outputs": []
    },
    {
      "cell_type": "code",
      "source": [
        "from numpy.random import seed\n",
        "seed(1)\n",
        "\n",
        "from sklearn.model_selection import train_test_split\n",
        "import logging\n",
        "\n",
        "import chart_studio.plotly as py\n",
        "import plotly.graph_objs as go\n",
        "import matplotlib.pyplot as plt\n",
        "import pandas as pd\n",
        "import pydot\n",
        "\n",
        "\n",
        "import keras\n",
        "from keras import backend as k\n",
        "k.set_learning_phase(1)\n",
        "from keras.preprocessing.text import Tokenizer\n",
        "from keras import initializers\n",
        "from tensorflow.keras.optimizers import RMSprop\n",
        "from keras.models import Sequential,Model\n",
        "from keras.layers import Dense,LSTM,Dropout,Input,Activation,Add,concatenate, Embedding, RepeatVector\n",
        "from keras.layers.advanced_activations import LeakyReLU,PReLU\n",
        "from keras.callbacks import ModelCheckpoint\n",
        "from keras.models import load_model\n",
        "from tensorflow.keras.optimizers import Adam"
      ],
      "metadata": {
        "colab": {
          "base_uri": "https://localhost:8080/"
        },
        "id": "QUmIPtAUaf_G",
        "outputId": "93944764-ef27-4c0f-9e1c-d00a3d91e641"
      },
      "execution_count": 24,
      "outputs": [
        {
          "output_type": "stream",
          "name": "stderr",
          "text": [
            "/usr/local/lib/python3.7/dist-packages/keras/backend.py:450: UserWarning: `tf.keras.backend.set_learning_phase` is deprecated and will be removed after 2020-10-11. To update it, simply pass a True/False value to the `training` argument of the `__call__` method of your layer or model.\n",
            "  warnings.warn('`tf.keras.backend.set_learning_phase` is deprecated and '\n"
          ]
        }
      ]
    },
    {
      "cell_type": "code",
      "source": [
        "from keras.layers import TimeDistributed\n",
        "import gensim"
      ],
      "metadata": {
        "id": "lGRLaxq5b6wW"
      },
      "execution_count": 25,
      "outputs": []
    },
    {
      "cell_type": "code",
      "source": [
        "# Hyperparams\n",
        "\n",
        "MAX_LEN = 400\n",
        "MAX_LEN_S=100\n",
        "VOCAB_SIZE=30000\n",
        "EMBEDDING_DIM = 200\n",
        "HIDDEN_UNITS = 256\n",
        "#VOCAB_SIZE = VOCAB_SIZE + 1\n",
        "\n",
        "LEARNING_RATE = 0.002\n",
        "BATCH_SIZE = 32\n",
        "EPOCHS = 10"
      ],
      "metadata": {
        "id": "vjbE5qFhcAKR"
      },
      "execution_count": 26,
      "outputs": []
    },
    {
      "cell_type": "code",
      "source": [
        "from keras import backend as K \n",
        "import gensim\n",
        "from numpy import *\n",
        "import numpy as np\n",
        "import pandas as pd \n",
        "import re\n",
        "from bs4 import BeautifulSoup\n",
        "from keras.preprocessing.text import Tokenizer \n",
        "from keras.preprocessing.sequence import pad_sequences\n",
        "from nltk.corpus import stopwords\n",
        "from tensorflow.keras.layers import Input, LSTM, Embedding, Dense, Concatenate, TimeDistributed\n",
        "from tensorflow.keras.models import Model\n",
        "from tensorflow.keras.callbacks import EarlyStopping\n",
        "import warnings\n",
        "import tensorflow as tf"
      ],
      "metadata": {
        "id": "1WpgT6EUDKts"
      },
      "execution_count": 27,
      "outputs": []
    },
    {
      "cell_type": "code",
      "source": [
        "encoder_inputs = Input(shape=(MAX_LEN,))\n",
        "encoder_embedding = encoder_embedding_layer(encoder_inputs)\n",
        "encoder_LSTM = LSTM(HIDDEN_UNITS, return_state=True)\n",
        "encoder_LSTM_R = LSTM(HIDDEN_UNITS, return_state=True, go_backwards=True)\n",
        "encoder_outputs_R, state_h_R, state_c_R = encoder_LSTM_R(encoder_embedding)\n",
        "encoder_outputs, state_h, state_c = encoder_LSTM(encoder_embedding)\n",
        "\n",
        "final_h = Add()([state_h, state_h_R])\n",
        "final_c = Add()([state_c, state_c_R])\n",
        "encoder_states = [final_h, final_c]\n",
        "\n",
        "\"\"\"\n",
        "decoder\n",
        "\"\"\"\n",
        "decoder_inputs = Input(shape=(MAX_LEN_S,))\n",
        "decoder_embedding = decoder_embedding_layer(decoder_inputs)\n",
        "decoder_LSTM = LSTM(HIDDEN_UNITS, return_sequences=True, return_state=True)\n",
        "decoder_outputs, _, _ = decoder_LSTM(decoder_embedding, initial_state=encoder_states) \n",
        "decoder_dense = Dense(VOCAB_SIZE, activation='linear')\n",
        "decoder_outputs = decoder_dense(decoder_outputs)\n",
        "\n",
        "model= Model(inputs=[encoder_inputs,decoder_inputs], outputs=decoder_outputs)\n"
      ],
      "metadata": {
        "id": "E32rmENoKLPU"
      },
      "execution_count": 28,
      "outputs": []
    },
    {
      "cell_type": "code",
      "source": [
        "model.summary()"
      ],
      "metadata": {
        "colab": {
          "base_uri": "https://localhost:8080/"
        },
        "id": "-WPbRtvXLvsD",
        "outputId": "5d6d9b7b-d04c-4457-9d7c-b2e2165995b3"
      },
      "execution_count": 29,
      "outputs": [
        {
          "output_type": "stream",
          "name": "stdout",
          "text": [
            "Model: \"model\"\n",
            "__________________________________________________________________________________________________\n",
            " Layer (type)                   Output Shape         Param #     Connected to                     \n",
            "==================================================================================================\n",
            " input_1 (InputLayer)           [(None, 400)]        0           []                               \n",
            "                                                                                                  \n",
            " embedding (Embedding)          (None, 400, 200)     6000000     ['input_1[0][0]']                \n",
            "                                                                                                  \n",
            " input_2 (InputLayer)           [(None, 100)]        0           []                               \n",
            "                                                                                                  \n",
            " lstm (LSTM)                    [(None, 256),        467968      ['embedding[0][0]']              \n",
            "                                 (None, 256),                                                     \n",
            "                                 (None, 256)]                                                     \n",
            "                                                                                                  \n",
            " lstm_1 (LSTM)                  [(None, 256),        467968      ['embedding[0][0]']              \n",
            "                                 (None, 256),                                                     \n",
            "                                 (None, 256)]                                                     \n",
            "                                                                                                  \n",
            " embedding_1 (Embedding)        (None, 100, 200)     6000000     ['input_2[0][0]']                \n",
            "                                                                                                  \n",
            " add (Add)                      (None, 256)          0           ['lstm[0][1]',                   \n",
            "                                                                  'lstm_1[0][1]']                 \n",
            "                                                                                                  \n",
            " add_1 (Add)                    (None, 256)          0           ['lstm[0][2]',                   \n",
            "                                                                  'lstm_1[0][2]']                 \n",
            "                                                                                                  \n",
            " lstm_2 (LSTM)                  [(None, 100, 256),   467968      ['embedding_1[0][0]',            \n",
            "                                 (None, 256),                     'add[0][0]',                    \n",
            "                                 (None, 256)]                     'add_1[0][0]']                  \n",
            "                                                                                                  \n",
            " dense (Dense)                  (None, 100, 30000)   7710000     ['lstm_2[0][0]']                 \n",
            "                                                                                                  \n",
            "==================================================================================================\n",
            "Total params: 21,113,904\n",
            "Trainable params: 9,113,904\n",
            "Non-trainable params: 12,000,000\n",
            "__________________________________________________________________________________________________\n"
          ]
        }
      ]
    },
    {
      "cell_type": "code",
      "source": [
        "model.compile(optimizer=\"adam\", loss=\"categorical_crossentropy\", metrics=[\"accuracy\"])"
      ],
      "metadata": {
        "id": "pBfdwRj9L2JK"
      },
      "execution_count": 30,
      "outputs": []
    },
    {
      "cell_type": "code",
      "source": [
        "filename = '/content/drive/MyDrive/Colab Notebooks/trained/model_2.sav'\n",
        "pickle.dump(model, open(filename, 'wb'))"
      ],
      "metadata": {
        "id": "Z7RRQjWsTcE3"
      },
      "execution_count": null,
      "outputs": []
    },
    {
      "cell_type": "code",
      "source": [
        "#num_samples = len(pad_highlight)\n",
        "import numpy as np\n",
        "decoder_output_data = np.zeros((700,100,30000), dtype=\"int32\")"
      ],
      "metadata": {
        "id": "atFyRBZpMFUc"
      },
      "execution_count": 1,
      "outputs": []
    },
    {
      "cell_type": "code",
      "source": [
        "print(pad_article.shape)\n",
        "#print(decoder_output_data.shape)\n",
        "print(len(pad_highlight))"
      ],
      "metadata": {
        "id": "sStvQGjXOLqZ"
      },
      "execution_count": null,
      "outputs": []
    },
    {
      "cell_type": "code",
      "source": [
        "for i, seqs in enumerate(pad_highlight[:800]):\n",
        "    for j, seq in enumerate(seqs):\n",
        "        if j > 0:\n",
        "            decoder_output_data[i][j][seq] = 1\n",
        "          "
      ],
      "metadata": {
        "id": "uSpcnkWhMylu"
      },
      "execution_count": null,
      "outputs": []
    },
    {
      "cell_type": "code",
      "source": [
        "print(decoder_output_data[0])"
      ],
      "metadata": {
        "id": "PKt5IEmsVRKw"
      },
      "execution_count": null,
      "outputs": []
    },
    {
      "cell_type": "code",
      "source": [
        "art_train, art_test, sum_train, sum_test = train_test_split(pad_article, pad_highlight, test_size=0.2)"
      ],
      "metadata": {
        "id": "ZRlsb2vKMWGz"
      },
      "execution_count": null,
      "outputs": []
    },
    {
      "cell_type": "code",
      "source": [
        "history = model.fit([pad_article,pad_highlight], \n",
        "                     target_train, \n",
        "                     epochs=EPOCHS, \n",
        "                     batch_size=BATCH_SIZE,\n",
        "                     validation_data=([art_test, sum_test], target_test))"
      ],
      "metadata": {
        "id": "2tLp-BhfNY2s"
      },
      "execution_count": null,
      "outputs": []
    }
  ]
}